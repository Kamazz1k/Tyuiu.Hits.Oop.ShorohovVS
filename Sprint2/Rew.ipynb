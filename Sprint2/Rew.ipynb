{
 "cells": [
  {
   "cell_type": "markdown",
   "metadata": {},
   "source": [
    "<h2 style=\"color:DodgerBlue\">Реализация:</h2>\n",
    "\n",
    "----"
   ]
  },
  {
   "cell_type": "code",
   "execution_count": null,
   "metadata": {
    "dotnet_interactive": {
     "language": "csharp"
    },
    "polyglot_notebook": {
     "kernelName": "csharp"
    }
   },
   "outputs": [
    {
     "name": "stdout",
     "output_type": "stream",
     "text": [
      "Имя сотрудника: Славка, Должность: Сотрудник, Зарплата: 80000\n",
      "Имя: Вечеслав, позиция: Менеджер, зарплата: 115000, Департамент: Отдел продаж\n",
      "Имя: Денис, позиция: Проект-менеджер, зарплата: 90000, Департамент: Отдел разработки, название проекта: Проект А\n",
      "Имя: Денис, позиция: Проект-менеджер, зарплата: 90000, Департамент: Отдел разработки, название проекта: Проект А\n",
      "Выводим отчет\n",
      "Показываем подчиненных сотрудников\n"
     ]
    }
   ],
   "source": [
    "public class Employee\n",
    "{\n",
    "    public string Name {get; set;}\n",
    "    public string Position {get; set;}\n",
    "    public double Salary {get; set;}\n",
    "\n",
    "\n",
    "    public Employee(string name, string position, double salary)\n",
    "    {\n",
    "        Name = name;\n",
    "        Position = position;\n",
    "        Salary = salary;\n",
    "    }\n",
    "    public virtual void PrintInfo()\n",
    "    {\n",
    "        Console.WriteLine($\"Имя сотрудника: {Name}, Должность: {Position}, Зарплата: {Salary}\");\n",
    "    }\n",
    "\n",
    "}\n",
    "\n",
    "public class Manager : Employee\n",
    "{\n",
    "    public string Department {get;set;}\n",
    "\n",
    "    public Manager(string name, string position, double salary, string department) : base(name, position, salary)\n",
    "    {\n",
    "        Department = department;\n",
    "    }\n",
    "    public override void PrintInfo()\n",
    "    {\n",
    "        Console.WriteLine($\"Имя: {Name}, позиция: {Position}, зарплата: {Salary}, Департамент: {Department}\");\n",
    "    }\n",
    "}\n",
    "\n",
    "\n",
    "\n",
    "public interface IReportable\n",
    "{\n",
    "    void GenerateReport();\n",
    "}\n",
    "\n",
    "public interface ITeamLeader\n",
    "{\n",
    "    void GetTeamMember();\n",
    "}\n",
    "class ProjectManager : Manager, IReportable, ITeamLeader\n",
    "{\n",
    "    public string ProjectName { get; set; }\n",
    "\n",
    "    public ProjectManager(string name, string position, int salary, string department, string projectName) \n",
    "        : base(name, position, salary, department) \n",
    "        { \n",
    "            ProjectName = projectName;\n",
    "        }\n",
    "\n",
    "    public override void PrintInfo()\n",
    "    {\n",
    "         Console.WriteLine($\"Имя: {Name}, позиция: {Position}, зарплата: {Salary}, Департамент: {Department}, название проекта: {ProjectName}\");\n",
    "    }\n",
    "\n",
    "    public void GenerateReport()\n",
    "    {\n",
    "        Console.WriteLine(\"Выводим отчет\");\n",
    "    }\n",
    "\n",
    "    public void GetTeamMember()\n",
    "    {\n",
    "        Console.WriteLine(\"Показываем подчиненных сотрудников\");\n",
    "    }\n",
    "}\n",
    "Employee employee = new Employee(\"Славка\", \"Сотрудник\", 80000);\n",
    "Manager manager = new Manager(\"Вечеслав\", \"Менеджер\", 115000, \"Отдел продаж\");\n",
    "ProjectManager projectManager = new ProjectManager(\"Денис\", \"Проект-менеджер\", 90000, \"Отдел разработки\", \"Проект А\");\n",
    "ProjectManager projectManager1 = new ProjectManager(\"Захар\", \"Проект-менеджер+\", 890000, \"Отдел разработки\", \"Проект Б\");\n",
    "\n",
    "employee.PrintInfo();\n",
    "manager.PrintInfo();\n",
    "projectManager.PrintInfo();\n",
    "projectManager.PrintInfo();\n",
    "\n",
    "projectManager.GenerateReport();\n",
    "projectManager.GetTeamMember();"
   ]
  }
 ],
 "metadata": {
  "kernelspec": {
   "display_name": ".NET (C#)",
   "language": "C#",
   "name": ".net-csharp"
  },
  "polyglot_notebook": {
   "kernelInfo": {
    "defaultKernelName": "csharp",
    "items": [
     {
      "aliases": [],
      "languageName": "csharp",
      "name": "csharp"
     }
    ]
   }
  }
 },
 "nbformat": 4,
 "nbformat_minor": 2
}
