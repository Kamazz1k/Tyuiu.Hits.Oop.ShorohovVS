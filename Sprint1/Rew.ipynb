{
 "cells": [
  {
   "cell_type": "markdown",
   "metadata": {},
   "source": [
    "<h2 style=\"color:DodgerBlue\">Реализация:</h2>\n",
    "\n",
    "----"
   ]
  },
  {
   "cell_type": "code",
   "execution_count": null,
   "metadata": {
    "dotnet_interactive": {
     "language": "csharp"
    },
    "polyglot_notebook": {
     "kernelName": "csharp"
    }
   },
   "outputs": [
    {
     "name": "stdout",
     "output_type": "stream",
     "text": [
      "Имя: Ноутбук, Цена: 15000, Quantity: 6, Категоря: Электроника, Описание: Производительный ноутбук\n",
      "Имя: Артем, ID продовца: AT21, Зарплата:45000, контакт: Taturin.artem2211@mail.ru\n",
      "Store: Технический магазин, Location: Main Street, Hours: 9:00 - 21:00\n"
     ]
    }
   ],
   "source": [
    "public class Product\n",
    "{\n",
    "    private string name;\n",
    "    private decimal price;\n",
    "    private int quantity;\n",
    "    protected string category;\n",
    "    internal string description;\n",
    "\n",
    "    public Product(string name, decimal price, int quantity, string category, string description)\n",
    "    {\n",
    "        this.name = name;\n",
    "        this.price = price;\n",
    "        this.quantity = quantity;\n",
    "        this.category = category;\n",
    "        this.description = description;\n",
    "    }\n",
    "\n",
    "    public decimal GetTotalPrice() {return price * quantity;}\n",
    "\n",
    "    public void UpdateQuantity(int amount) {this.quantity = amount;}\n",
    "\n",
    "    public string GetProductInfo()\n",
    "    {\n",
    "        return $\"Имя: {name}, Цена: {price}, Quantity: {quantity}, Категоря: {category}, Описание: {description}\";\n",
    "    }\n",
    "}\n",
    "\n",
    "public class Seller\n",
    "{\n",
    "    private string name;\n",
    "    private string employeeId;\n",
    "    protected decimal salary;\n",
    "    internal string contactInfo;\n",
    "    private List<Product> products = new List<Product>();\n",
    "\n",
    "    public Seller(string name, string employeeId, decimal salary, string contactInfo)\n",
    "    {\n",
    "        this.name = name;\n",
    "        this.employeeId = employeeId;\n",
    "        this.salary = salary;\n",
    "        this.contactInfo = contactInfo;\n",
    "    }\n",
    "\n",
    "    public void AddProduct(Product product) {products.Add(product);}\n",
    "\n",
    "    public void SellProduct(Product product, int quantity)\n",
    "    {\n",
    "        if (product != null && product.GetTotalPrice() >= quantity)\n",
    "        {\n",
    "            product.UpdateQuantity(quantity);\n",
    "        }\n",
    "        else\n",
    "        {\n",
    "            Console.WriteLine(\"Недостаточно товара на складе.\");\n",
    "        }\n",
    "    }\n",
    "\n",
    "    public string GetSellerInfo()\n",
    "    {\n",
    "        return $\"Имя: {name}, ID продовца: {employeeId}, Зарплата:{salary}, контакт: {contactInfo}\";\n",
    "    }\n",
    "}\n",
    "\n",
    "public class Store\n",
    "{\n",
    "    private string storeName;\n",
    "    private string location;\n",
    "    public string storeHours;\n",
    "    private List<Seller> sellers = new List<Seller>();\n",
    "    private List<Product> products = new List<Product>();\n",
    "\n",
    "    public Store(string storeName, string location, string storeHours)\n",
    "    {\n",
    "        this.storeName = storeName;\n",
    "        this.location = location;\n",
    "        this.storeHours = storeHours;\n",
    "    }\n",
    "\n",
    "    public void AddSeller(Seller seller) {sellers.Add(seller);}\n",
    "\n",
    "    public void ListProducts()\n",
    "    {\n",
    "        foreach (var product in products)\n",
    "        {\n",
    "            Console.WriteLine(product.GetProductInfo());\n",
    "        }\n",
    "    }\n",
    "\n",
    "    public string GetStoreInfo()\n",
    "    {\n",
    "        return $\"Store: {storeName}, Location: {location}, Hours: {storeHours}\";\n",
    "    }\n",
    "\n",
    "    public void AddProduct(Product product) {products.Add(product);}\n",
    "}\n",
    "\n",
    "Product product1 = new Product(\"Ноутбук\", 15000m, 6, \"Электроника\", \"Производительный ноутбук\");\n",
    "Console.WriteLine(product1.GetProductInfo());\n",
    "\n",
    "Seller seller1 = new Seller(\"Артем\", \"AT21\", 45000m,\"Taturin.artem2211@mail.ru\");\n",
    "seller1.AddProduct(product1);\n",
    "Console.WriteLine(seller1.GetSellerInfo());\n",
    "\n",
    "Store store1 = new Store(\"Технический магазин\", \"Main Street\", \"9:00 - 21:00\");\n",
    "store1.AddSeller(seller1);\n",
    "store1.ListProducts();\n",
    "Console.WriteLine(store1.GetStoreInfo());\n"
   ]
  }
 ],
 "metadata": {
  "kernelspec": {
   "display_name": ".NET (C#)",
   "language": "C#",
   "name": ".net-csharp"
  },
  "polyglot_notebook": {
   "kernelInfo": {
    "defaultKernelName": "csharp",
    "items": [
     {
      "aliases": [],
      "languageName": "csharp",
      "name": "csharp"
     }
    ]
   }
  }
 },
 "nbformat": 4,
 "nbformat_minor": 2
}
