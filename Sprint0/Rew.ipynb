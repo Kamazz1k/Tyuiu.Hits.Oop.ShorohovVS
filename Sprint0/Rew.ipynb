{
 "cells": [
  {
   "cell_type": "markdown",
   "metadata": {},
   "source": [
    "<h1 style=\"color:DodgerBlue\">Индивидальный проект</h1>"
   ]
  },
  {
   "cell_type": "markdown",
   "metadata": {},
   "source": [
    "<h2 style=\"color:DodgerBlue\">Реализация:</h2>\n",
    "\n",
    "----"
   ]
  },
  {
   "cell_type": "code",
   "execution_count": null,
   "metadata": {
    "dotnet_interactive": {
     "language": "csharp"
    },
    "polyglot_notebook": {
     "kernelName": "csharp"
    }
   },
   "outputs": [
    {
     "name": "stdout",
     "output_type": "stream",
     "text": [
      "Цветок:\n",
      "Цветок Роза распускается и радует глаз! Цвет: Красный, Лепестки: 5\n",
      "Роза вырос на 5 см. Текущая высота: 35.5 см\n",
      "Цветок Роза начинает увядать\n",
      "\n",
      "Дерево:\n",
      "Дерево Дуб покрывается новыми листьями!\n",
      "Дуб вырос на 50 см. Текущая высота: 550 см\n",
      "Дерево Дуб постарело на 10 лет. Сейчас ему 60 лет\n",
      "\n",
      "Демонстрация полиморфизма:\n",
      "Цветок Роза распускается и радует глаз! Цвет: Красный, Лепестки: 5\n",
      "Дерево Дуб покрывается новыми листьями!\n"
     ]
    }
   ],
   "source": [
    "class Plant\n",
    "{\n",
    "    public string Name { get; set; }\n",
    "    public string Type { get; set; }\n",
    "    public float Height { get; set; }\n",
    "\n",
    "    public Plant(string name, string type, float height)\n",
    "    {\n",
    "        Name = name;\n",
    "        Type = type;\n",
    "        Height = height;\n",
    "    }\n",
    "\n",
    "    public virtual void Bloom()\n",
    "    {\n",
    "        Console.WriteLine($\"{Type} {Name} цветет\");\n",
    "    }\n",
    "\n",
    "    public void Grow(float growth)\n",
    "    {\n",
    "        Height += growth;\n",
    "        Console.WriteLine($\"{Name} вырос на {growth} см. Текущая высота: {Height} см\");\n",
    "    }\n",
    "}\n",
    "\n",
    "class Flower : Plant\n",
    "{\n",
    "    public string Color { get; set; }\n",
    "    public int PetalCount { get; set; }\n",
    "\n",
    "    public Flower(string name, float height, string color, int petalCount)\n",
    "        : base(name, \"Цветок\", height)\n",
    "    {\n",
    "        Color = color;\n",
    "        PetalCount = petalCount;\n",
    "    }\n",
    "\n",
    "    public override void Bloom()\n",
    "    {\n",
    "        Console.WriteLine($\"Цветок {Name} распускается и радует глаз! Цвет: {Color}, Лепестки: {PetalCount}\");\n",
    "    }\n",
    "\n",
    "    public void Wild()\n",
    "    {\n",
    "        Console.WriteLine($\"Цветок {Name} начинает увядать\");\n",
    "    }\n",
    "}\n",
    "\n",
    "class Tree : Plant\n",
    "{\n",
    "    public int Age { get; set; }\n",
    "    public string LeafType{ get; set; }\n",
    "\n",
    "    public Tree(string name, float height, int age)\n",
    "        : base(name, \"Дерево\", height)\n",
    "    {\n",
    "        Age = age;\n",
    "    }\n",
    "\n",
    "    public override void Bloom()\n",
    "    {\n",
    "        Console.WriteLine($\"Дерево {Name} покрывается новыми листьями!\");\n",
    "    }\n",
    "\n",
    "    public void GrowOlder(int years)\n",
    "    {\n",
    "        Age += years;\n",
    "        Console.WriteLine($\"Дерево {Name} постарело на {years} лет. Сейчас ему {Age} лет\");\n",
    "    }\n",
    "}\n",
    "\n",
    "Flower rose = new Flower(\"Роза\", 30.5f, \"Красный\", 5);\n",
    "Tree oak = new Tree(\"Дуб\", 500.0f, 50);\n",
    "\n",
    "Console.WriteLine(\"Цветок:\");\n",
    "rose.Bloom();\n",
    "rose.Grow(5.0f);\n",
    "rose.Wild();\n",
    "\n",
    "Console.WriteLine(\"\\nДерево:\");\n",
    "oak.Bloom();\n",
    "oak.Grow(50.0f);\n",
    "oak.GrowOlder(10);\n",
    "\n",
    "Console.WriteLine(\"\\nДемонстрация полиморфизма:\");\n",
    "Plant myPlant1 = rose;\n",
    "Plant myPlant2 = oak;\n",
    "\n",
    "myPlant1.Bloom();\n",
    "myPlant2.Bloom();"
   ]
  }
 ],
 "metadata": {
  "kernelspec": {
   "display_name": ".NET (C#)",
   "language": "C#",
   "name": ".net-csharp"
  },
  "polyglot_notebook": {
   "kernelInfo": {
    "defaultKernelName": "csharp",
    "items": [
     {
      "aliases": [],
      "languageName": "csharp",
      "name": "csharp"
     }
    ]
   }
  }
 },
 "nbformat": 4,
 "nbformat_minor": 2
}
